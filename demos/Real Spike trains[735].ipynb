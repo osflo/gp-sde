{
 "cells": [
  {
   "cell_type": "code",
   "execution_count": 1,
   "metadata": {},
   "outputs": [],
   "source": [
    "import torch\n",
    "import matplotlib.pyplot as plt\n",
    "%matplotlib inline\n",
    "import numpy as np\n",
    "import random\n",
    "import sys\n",
    "import pickle\n",
    "sys.path.append(\"..\")\n",
    "from inference import GaussMarkovLagrange\n",
    "from likelihoods import PointProcess\n",
    "from mappings import AffineMapping\n",
    "from transition import FixedPointSparseGP, SparseGP\n",
    "from kernels import RBF\n",
    "from linkfunctions import Exp\n",
    "from models import PointProcessGPSDEmodel, GPSDE"
   ]
  },
  {
   "cell_type": "code",
   "execution_count": 2,
   "metadata": {},
   "outputs": [
    {
     "name": "stdout",
     "output_type": "stream",
     "text": [
      "1.10.0+cpu\n"
     ]
    }
   ],
   "source": [
    "print(torch.__version__) # double check that this is the version from requirements.txt"
   ]
  },
  {
   "attachments": {},
   "cell_type": "markdown",
   "metadata": {},
   "source": [
    "### Data"
   ]
  },
  {
   "cell_type": "code",
   "execution_count": 3,
   "metadata": {},
   "outputs": [],
   "source": [
    "def plotRaster(event_times_list, **kwargs):\n",
    "    \"\"\" function to plot raster plot for a given trial\"\"\"\n",
    "    ax = plt.gca()\n",
    "    for ith, trial in enumerate(event_times_list):\n",
    "        plt.vlines(trial, ith + .5, ith + 1.5, **kwargs)\n",
    "    plt.ylim(.5, len(event_times_list) + .5)\n",
    "    return ax"
   ]
  },
  {
   "cell_type": "code",
   "execution_count": 6,
   "metadata": {},
   "outputs": [],
   "source": [
    "data = np.load('../Data/Cellline1_Date190328_Chip2135.npz', allow_pickle=True)"
   ]
  },
  {
   "cell_type": "code",
   "execution_count": 7,
   "metadata": {},
   "outputs": [],
   "source": [
    "yDim = 40 #nmb neurons\n",
    "nTrials = 3\n",
    "tmax = 30\n",
    "trLen = tmax * np.ones(nTrials)\n",
    "times, ids = data['times'], data['ids']\n",
    "ids_set, counts = np.unique(ids, return_counts=True)\n",
    "valid_ids_set = ids_set[np.argsort(counts)[::-1][:yDim]] #choice of neurons\n",
    "\n",
    "times = times[np.isin(ids, valid_ids_set)]\n",
    "ids = ids[np.isin(ids, valid_ids_set)]\n",
    "\n",
    "Yspike = []\n",
    "\n",
    "for i in range(nTrials): #every trial is 30s in the time serie (a bit of explanation on this )\n",
    "    Ytrial = []\n",
    "    valid_spk_idx = np.logical_and(times > i*tmax, times < (i+1)*tmax)\n",
    "    valid_times = times[valid_spk_idx] - i*tmax\n",
    "    valid_ids = ids[valid_spk_idx]\n",
    "    for neuron_id in valid_ids_set:\n",
    "        Ytrial.append(valid_times[valid_ids == neuron_id])\n",
    "    Yspike.append(Ytrial)"
   ]
  },
  {
   "cell_type": "code",
   "execution_count": 8,
   "metadata": {},
   "outputs": [
    {
     "data": {
      "image/png": "[encoded data removed]",
      "text/plain": [
       "<Figure size 640x480 with 1 Axes>"
      ]
     },
     "metadata": {},
     "output_type": "display_data"
    }
   ],
   "source": [
    "np.random.seed(101)\n",
    "torch.manual_seed(22) #mu ini\n",
    "\n",
    "xDim = 2\n",
    "trLen = tmax * np.ones(nTrials) # trial length\n",
    "C = 2.*np.random.rand(xDim,yDim) * np.random.choice([-1,1],size=(xDim,yDim))\n",
    "d = 0.1*np.random.randn(1,yDim)\n",
    "\n",
    "plotRaster(Yspike[1])\n",
    "plt.show()"
   ]
  },
  {
   "attachments": {},
   "cell_type": "markdown",
   "metadata": {},
   "source": [
    "### Model"
   ]
  },
  {
   "cell_type": "code",
   "execution_count": 9,
   "metadata": {},
   "outputs": [
    {
     "name": "stderr",
     "output_type": "stream",
     "text": [
      "d:\\logiciel\\miniconda\\lib\\site-packages\\torch\\functional.py:445: UserWarning: torch.meshgrid: in an upcoming release, it will be required to pass the indexing argument. (Triggered internally at  ..\\aten\\src\\ATen\\native\\TensorShape.cpp:2157.)\n",
      "  return _VF.meshgrid(tensors, **kwargs)  # type: ignore[attr-defined]\n"
     ]
    }
   ],
   "source": [
    "dtgrid = 0.01 # discretisation for solving ODEs\n",
    "xDim = 2 # two latents\n",
    "\n",
    "# pick model components:\n",
    "link = Exp() # exponential link function\n",
    "like = PointProcess(Yspike, link, trLen, dtstep=dtgrid, nLeg=100) # point process likelihood\n",
    "outputMapping = AffineMapping(torch.tensor(C), torch.tensor(d)) # affine output mapping\n",
    "kern = RBF(xDim, lengthscales_Init=.5 * torch.ones((xDim, 1))) # RBF kernel\n",
    "#kern.lengthscales.requires_grad = False # fix kernel lengthscales\n",
    "\n",
    "# generater inducing point locations on a 2D grid\n",
    "xmin, xmax = -2., 2.\n",
    "numZ = 5\n",
    "Zs1, Zs2 = torch.meshgrid([torch.linspace(xmin,xmax,numZ), torch.linspace(xmin,xmax,numZ)])\n",
    "\n",
    "Zs = torch.cat((Zs1.reshape(-1,1),Zs2.reshape(-1,1)),dim=1)\n",
    "\n",
    "transfunc = SparseGP(kern, Zs, useClosedForm=False) # choose sparse GP as a transition function\n",
    "transfunc.q_mu.data = torch.randn(transfunc.q_mu.size()).type(torch.float64) # random initialisation for inducing point posterior mean\n",
    "\n",
    "# uncomment to instead condition on fixed points\n",
    "#Zs_fx = torch.tensor([0., 0.]).view(-1,xDim)\n",
    "# transition function conditioned on fixed point\n",
    "#transfunc = SparseGP(kern, Zs, Zs_fx) \n",
    "\n",
    "\n",
    "# build point procces generative model for continuous time spike-time observations\n",
    "model = PointProcessGPSDEmodel(xDim, transfunc, outputMapping, like, nLeg=100)\n",
    "\n",
    "# assemble inference algorithm\n",
    "lr=0.1 #learning rate\n",
    "inference = GaussMarkovLagrange(xDim, trLen, learningRate=lr, dtstep=dtgrid)\n",
    "\n",
    "# create GPSDE model object \n",
    "myGPSDE = GPSDE(model, inference)\n",
    "\n",
    "# fix inducing points on chosen grid\n",
    "myGPSDE.model.transfunc.Zs.requires_grad = False\n"
   ]
  },
  {
   "attachments": {},
   "cell_type": "markdown",
   "metadata": {},
   "source": [
    "### Run and save"
   ]
  },
  {
   "cell_type": "code",
   "execution_count": null,
   "metadata": {},
   "outputs": [],
   "source": [
    "# run EM (increase number of iterations for better results)\n",
    "myGPSDE.variationalEM(niter=100,eStepIter=2, mStepIter=2)\n",
    "#myGPSDE.variationalEM(niter=30,eStepIter=1, mStepIter=2)"
   ]
  },
  {
   "cell_type": "code",
   "execution_count": null,
   "metadata": {},
   "outputs": [],
   "source": [
    "#Save the results\n",
    "name=\"20_80_221724_20_6iter_allneuron800_dt0.05\"\n",
    "torch.save(myGPSDE.model,'Graph_and_modelsave/GPSDE_model_'+name+'.pt')\n",
    "with open(\"Graph_and_modelsave/GPSDE_inference_\"+name+\".pkl\",'wb') as file:\n",
    "    pickle.dump(myGPSDE.inference,file)\n",
    "\n",
    "with open(\"Graph_and_modelsave/GPSDE_\"+name+\".pkl\",'wb') as file:\n",
    "    pickle.dump(myGPSDE,file)"
   ]
  },
  {
   "attachments": {},
   "cell_type": "markdown",
   "metadata": {},
   "source": [
    "### Load"
   ]
  },
  {
   "cell_type": "code",
   "execution_count": null,
   "metadata": {},
   "outputs": [],
   "source": [
    "model=torch.load('Graph_and_modelsave/GPSDE_model_'+name+'.pt')\n",
    "with open(\"Graph_and_modelsave/GPSDE_inference_\"+name+\".pkl\",'rb') as file:\n",
    "    inference=pickle.load(file)"
   ]
  },
  {
   "attachments": {},
   "cell_type": "markdown",
   "metadata": {},
   "source": [
    "### Plots"
   ]
  },
  {
   "cell_type": "code",
   "execution_count": null,
   "metadata": {},
   "outputs": [],
   "source": [
    "# evaluate trial\n",
    "idx = 0\n",
    "testTimes = torch.linspace(0,trLen[idx],int(trLen[idx]/0.001))\n",
    "\n",
    "m, S = myGPSDE.inference.predict_marginals(idx, testTimes)\n",
    "mr, Sr, Corth = myGPSDE.model.outputMapping.orthogonaliseLatents(m,S)\n",
    "\n",
    "\n",
    "# plot the latent path and data in orthogonalised subspace\n",
    "f, ax = plt.subplots()\n",
    "f.set_figheight(7.5)\n",
    "f.set_figwidth(15)\n",
    "for i in range(xDim):\n",
    "#     ax.plot(testTimes.numpy(),xpath[idx],color='black',linewidth=0.5,label='x(t)')\n",
    "    ax.plot(testTimes.numpy(),mr[:,0,i].detach().squeeze().numpy(), label='$m_x(t)$')\n",
    "    ax.fill_between(testTimes.numpy(), mr[:,0,i].detach().numpy()+np.sqrt(Sr[:,i,i].detach().numpy()), \n",
    "                mr[:,0,i].detach().squeeze().numpy()-np.sqrt(Sr[:,i,i].detach().numpy()), alpha=0.2)\n",
    "\n",
    "    \n",
    "#Latents = Corth.detach().numpy().T @ (np.stack(logRate[idx] - d).T) # data projected into same subspace as inferred latents\n",
    "#plt.plot(np.linspace(0,trLen[idx],int(trLen[idx]/0.001)),Latents[0,:],color='black')\n",
    "#plt.plot(np.linspace(0,trLen[idx],int(trLen[idx]/0.001)),Latents[1,:],color='black')\n",
    "\n",
    "# plot where observatioins lie\n",
    "ax.locator_params(nbins=4)\n",
    "ax.set_ylabel('$x(t)$',fontsize=26)\n",
    "ax.set_xlabel('$t$',fontsize=26)\n",
    "ax.set_title('latent process',fontsize=26)\n",
    "ax.spines['right'].set_visible(False)\n",
    "ax.spines['top'].set_visible(False)\n",
    "plt.savefig('Graph_and_modelsave/Latent_graph_'+name+'.pdf')\n",
    "plt.show()"
   ]
  },
  {
   "cell_type": "code",
   "execution_count": null,
   "metadata": {},
   "outputs": [],
   "source": [
    "# visualise learned transition function and true transition function\n",
    "ngrid = 20\n",
    "xmin = -4.5\n",
    "xmax = 4.5\n",
    "x = torch.linspace(xmin,xmax,ngrid)\n",
    "y = torch.linspace(xmin,xmax,ngrid)\n",
    "\n",
    "xv, yv = torch.meshgrid([x, y])\n",
    "xygrid = torch.cat((yv.reshape(-1, 1),xv.reshape(-1, 1)),dim=1)\n",
    "out_est = myGPSDE.model.transfunc.predict(xygrid.unsqueeze(0))\n",
    "#out_true = func(np.concatenate((yv.numpy().reshape(-1, 1),xv.numpy().reshape(-1, 1)),axis=1))\n"
   ]
  },
  {
   "cell_type": "code",
   "execution_count": null,
   "metadata": {},
   "outputs": [],
   "source": [
    "\n",
    "# visualise dynamics\n",
    "sz = 6\n",
    "plt.figure(figsize=(sz,sz))\n",
    "\n",
    "plt.streamplot(x.numpy(), y.numpy(), out_est[0,:,0].detach().reshape(ngrid,ngrid).numpy(), \n",
    "           out_est[0,:,1].detach().numpy().reshape(ngrid, ngrid), arrowsize=1.2, \n",
    "                  density=2, color='mediumslateblue')\n",
    "#plt.plot(mr[:,0,0].detach().squeeze().numpy(), mr[:,0,1].detach().squeeze().numpy())\n",
    "\n",
    "plt.plot(myGPSDE.model.transfunc.Zs.detach().numpy()[:,0,], myGPSDE.model.transfunc.Zs.detach().numpy()[:,1], 'o', color='black', markersize=5)\n",
    "plt.xlabel('$x_1$')\n",
    "plt.ylabel('$x_2$')\n",
    "plt.title('estimated dynamics')\n",
    "plt.axis('square')\n",
    "#plt.locator_params(nbins=3)\n",
    "plt.savefig('Graph_and_modelsave/dynamics_'+name+'.pdf')\n",
    "plt.show()"
   ]
  },
  {
   "cell_type": "code",
   "execution_count": null,
   "metadata": {},
   "outputs": [],
   "source": [
    "myGPSDE.model.transfunc.Zs"
   ]
  },
  {
   "cell_type": "code",
   "execution_count": null,
   "metadata": {},
   "outputs": [],
   "source": []
  }
 ],
 "metadata": {
  "kernelspec": {
   "display_name": "gp-sde",
   "language": "python",
   "name": "python3"
  },
  "language_info": {
   "codemirror_mode": {
    "name": "ipython",
    "version": 3
   },
   "file_extension": ".py",
   "mimetype": "text/x-python",
   "name": "python",
   "nbconvert_exporter": "python",
   "pygments_lexer": "ipython3",
   "version": "3.9.16"
  }
 },
 "nbformat": 4,
 "nbformat_minor": 2
}
