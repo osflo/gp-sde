{
 "cells": [
  {
   "attachments": {},
   "cell_type": "markdown",
   "metadata": {},
   "source": [
    "We want to use the model and algorithm of Tutorial--Van der Pol's dynamics with spike train observations.ipynb on the data in the folder Data."
   ]
  },
  {
   "cell_type": "code",
   "execution_count": 17,
   "metadata": {},
   "outputs": [],
   "source": [
    "# Libraries\n",
    "import torch\n",
    "import matplotlib.pyplot as plt\n",
    "%matplotlib inline\n",
    "import numpy as np\n",
    "import random\n",
    "import sys\n",
    "\n",
    "# .py\n",
    "sys.path.append(\"..\")\n",
    "from inference import GaussMarkovLagrange\n",
    "from likelihoods import PointProcess\n",
    "from mappings import AffineMapping\n",
    "from transition import FixedPointSparseGP, SparseGP\n",
    "from kernels import RBF\n",
    "from linkfunctions import Exp\n",
    "from models import PointProcessGPSDEmodel, GPSDE\n",
    "sys.path.append(\"../Data\")\n",
    "from Load_plot_data import load_neuron_data, roster_plot"
   ]
  },
  {
   "attachments": {},
   "cell_type": "markdown",
   "metadata": {},
   "source": [
    "# Load the data and modify its format"
   ]
  },
  {
   "cell_type": "code",
   "execution_count": 22,
   "metadata": {},
   "outputs": [],
   "source": [
    "#Load data\n",
    "ids,times=load_neuron_data('../Data/Cellline1_Date190328_Chip2135.npz')\n",
    "N=np.max(ids) # Number of neurons\n",
    "trLen=np.array([np.max(times)]) #Tmax must be an array to have one for each trial"
   ]
  },
  {
   "attachments": {},
   "cell_type": "markdown",
   "metadata": {},
   "source": [
    "The data from the files is of the form\n",
    "( id : neurons ids,\n",
    "times : times of spike )\n",
    "\n",
    "For the model we need a list of array where array i contains the times at which neuron i had a spike"
   ]
  },
  {
   "attachments": {},
   "cell_type": "markdown",
   "metadata": {},
   "source": [
    "We can observe using unique and some tests that the ids are all the numbers between 0 and 1016 except 131 and 899. We suppose that they are not present beacause they didn't have a spike."
   ]
  },
  {
   "cell_type": "code",
   "execution_count": 23,
   "metadata": {},
   "outputs": [],
   "source": [
    "Yspike=[]\n",
    "for i in range(N):\n",
    "    Yspike.append(times[ids==i])\n",
    "len(Yspike)\n",
    "\n",
    "#For now there is only one trial, to change if we want to define trials\n",
    "Yspike=[Yspike]"
   ]
  },
  {
   "attachments": {},
   "cell_type": "markdown",
   "metadata": {},
   "source": [
    "# Choices for the model"
   ]
  },
  {
   "cell_type": "code",
   "execution_count": 24,
   "metadata": {},
   "outputs": [],
   "source": [
    "#Choice of variables\n",
    "dtgrid = 0.004 # discretisation for solving ODEs\n",
    "xDim = 2 # two latents"
   ]
  },
  {
   "cell_type": "code",
   "execution_count": 25,
   "metadata": {},
   "outputs": [],
   "source": [
    "#Choice of model components\n",
    "link = Exp() # exponential link function (to define nonlinearity in likelihood )\n",
    "like = PointProcess(Yspike, link, trLen, dtstep=dtgrid, nLeg=100) # point process likelihood \n",
    "kern = RBF(xDim) # RBF kernel\n",
    "\n",
    "#To initialize the Affine mapping from latent to observations\n",
    "C = 2.*np.random.rand(xDim,N) * np.random.choice([-1,1],size=(xDim,N)) \n",
    "d = 0.1*np.random.randn(1,N)\n",
    "outputMapping = AffineMapping(torch.tensor(C), torch.tensor(d)) # affine output mapping, used inn the forward of the model"
   ]
  },
  {
   "cell_type": "code",
   "execution_count": 26,
   "metadata": {},
   "outputs": [
    {
     "name": "stderr",
     "output_type": "stream",
     "text": [
      "d:\\logiciel\\miniconda\\lib\\site-packages\\torch\\functional.py:445: UserWarning: torch.meshgrid: in an upcoming release, it will be required to pass the indexing argument. (Triggered internally at  ..\\aten\\src\\ATen\\native\\TensorShape.cpp:2157.)\n",
      "  return _VF.meshgrid(tensors, **kwargs)  # type: ignore[attr-defined]\n"
     ]
    }
   ],
   "source": [
    "#Choose the inducing points and transition function\n",
    "\n",
    "# generater inducing point locations on a 2D grid (for sparse gp)\n",
    "xmin, xmax = -2., 2.\n",
    "Zs1, Zs2 = torch.meshgrid([torch.linspace(xmin,xmax,5), torch.linspace(xmin,xmax,5)])\n",
    "numZ = 25\n",
    "Zs = torch.cat((Zs1.reshape(-1,1),Zs2.reshape(-1,1)),dim=1)\n",
    "\n",
    "transfunc = SparseGP(kern, Zs) # choose sparse GP as a transition function\n",
    "transfunc.q_mu.data = torch.randn(transfunc.q_mu.size()).type(torch.float64) # random initialisation for inducing point posterior mean\n",
    "\n",
    "# uncomment to instead condition on fixed points\n",
    "#Zs_fx = torch.tensor([0., 0.]).view(-1,xDim)\n",
    "# transition function conditioned on fixed point\n",
    "#transfunc = SparseGP(kern, Zs, Zs_fx) "
   ]
  },
  {
   "attachments": {},
   "cell_type": "markdown",
   "metadata": {},
   "source": [
    "# Build the model"
   ]
  },
  {
   "cell_type": "code",
   "execution_count": 27,
   "metadata": {},
   "outputs": [],
   "source": [
    "#Build the model\n",
    "\n",
    "# build point procces generative model for continuous time spike-time observations\n",
    "model = PointProcessGPSDEmodel(xDim, transfunc, outputMapping, like, nLeg=100)\n",
    "\n",
    "# assemble inference algorithm\n",
    "inference = GaussMarkovLagrange(xDim, trLen, learningRate=1, dtstep=dtgrid)\n",
    "\n",
    "# create GPSDE model object (final object)\n",
    "myGPSDE = GPSDE(model, inference)\n",
    "\n",
    "# fix inducing points on chosen grid\n",
    "myGPSDE.model.transfunc.Zs.requires_grad = False"
   ]
  }
 ],
 "metadata": {
  "kernelspec": {
   "display_name": "base",
   "language": "python",
   "name": "python3"
  },
  "language_info": {
   "codemirror_mode": {
    "name": "ipython",
    "version": 3
   },
   "file_extension": ".py",
   "mimetype": "text/x-python",
   "name": "python",
   "nbconvert_exporter": "python",
   "pygments_lexer": "ipython3",
   "version": "3.9.16"
  },
  "orig_nbformat": 4
 },
 "nbformat": 4,
 "nbformat_minor": 2
}
